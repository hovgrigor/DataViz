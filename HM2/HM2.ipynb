{
 "cells": [
  {
   "cell_type": "markdown",
   "metadata": {},
   "source": [
    "# Homework N2"
   ]
  },
  {
   "cell_type": "markdown",
   "metadata": {},
   "source": [
    "## Part 1: Theoretical Questions"
   ]
  },
  {
   "cell_type": "markdown",
   "metadata": {},
   "source": [
    "### 1. In a dataset with a non-normal distribution and potential extreme values, how are the whiskers in a boxplot determined, and what are the limitations of the standard IQR-based rule in such cases?\n",
    "In a boxplot the whiskers are defined using the IQR, the left whisker is the smallest value bigger than $Q_1$ - 1.5 * IQR and the right one is the largest value smaller than $Q_3$ + 1.5 * IQR. If a dataset has extreme values they may misrepresent the plot and skew it heavily to on side and it may be the case that the 1.5 multiplier has to be adjusted in order to more accurately describe the data. In those cases plotting the boxplot of the log of the data may be more appropriate. "
   ]
  },
  {
   "cell_type": "markdown",
   "metadata": {},
   "source": [
    "### 2. Given a dataset with heavy skewness and multiple peaks, how can a boxplot misrepresent outliers, and what alternative methods exist for identifying them more accurately?\n",
    "If a boxplot is skewed with a lot of outliers it will not accurately convey the information about the data. It might be the case that by sorting the data we are losing a lot of information about it and if before it had a clear correlation after sorting and plotting it we will lose that information and the peaks will become outliers even though they are not. Instead if sorting the data is too destructive we can use scatter plot. \n"
   ]
  },
  {
   "cell_type": "markdown",
   "metadata": {},
   "source": [
    "### 3. Explain the conceptual difference between median and mean in the context of non-symmetric distributions. Why does a boxplot prioritize the median, and in what cases could this choice obscure important data characteristics?\n",
    "Both have their own issues. The median since it's the middle point of the data can misrepresent the other half of it. For example we can have very low values the first 51% and high the other 49% and the median will be a low value which does not help us much in this case. The average can have another issue where the outliers can heavily skew it to one direction thus misrepresenting the data. For example we can say that the average salary is 200,000 drams but it does not tell much about the salary of people since it can be the case where bottom 80% earn 80-100k and top 20% earn way more bringing the average up. The boxplot prioritizes the median since it is not prone to be skewed by outliers."
   ]
  },
  {
   "cell_type": "markdown",
   "metadata": {},
   "source": [
    "### 4. If a boxplot exhibits strong right skewness, what can you infer about the underlying probability distribution? How would this skewness affect statistical measures such as variance, skewness coefficient, and potential model assumptions?\n",
    "\n",
    "Since the boxplot is right skewed we can infer that $|Q_2 - Q_1| > |Q_2 - Q_3|$ which tells us that the probability of the data is higher in the range $(Q_1, Q_2)$, Hence we can tell that the underlying probability distribution is also skewed right. It will have more or less the same variance as seen in the boxplot (That being how spread out is the boxplot). The data will most probably not come from a normal distribution hence a lot of tests in frequentest statistics can not be applied to it. "
   ]
  },
  {
   "cell_type": "markdown",
   "metadata": {},
   "source": [
    "### 5. Why are boxplots particularly useful for comparing multiple groups in high-dimensional data? What are the limitations of boxplots when dealing with overlapping distributions or categorical variables with small sample sizes?\n",
    "\n",
    "Boxplots are more understandable when looked at since we can have multiple non overlapping boxplots in one graph to more easily compare them to each other. If data comes from overlapping distributions they will look similar, but from the graph we can not tell that they came from the same distribution. "
   ]
  },
  {
   "cell_type": "markdown",
   "metadata": {},
   "source": [
    "### 6. What are the theoretical consequences of selecting an inappropriate number of bins in a histogram, particularly in datasets with varying density regions or multimodal distributions? How does bin width selection affect kernel density estimation (KDE)?\n",
    "We can think of the bins size as the resolution of the graph. If we select too small bin size we would not get any good information from the plot as the varying data will not be visible. KDE helps us to understand if our bin selection is right as if the KDE is similar to the histogram we had a good bin choice."
   ]
  },
  {
   "cell_type": "markdown",
   "metadata": {},
   "source": [
    "### 7. Histograms and bar charts both use rectangular bars to display data. How does the interpretation of frequency differ in these two visualizations, and why is bin choice irrelevant in bar charts but crucial in histograms?\n",
    "In bar charts we are not interested in ranges rather we are visualizing how many items there are in a given category. Hence bin choice is irrelevant in the bar charts. In histogram we would like to visualize how many elements there are in a range of numbers. That range is the bin size hence it's choice affects the shape of the plot and what information it coveys."
   ]
  },
  {
   "cell_type": "markdown",
   "metadata": {},
   "source": [
    "### 8. Under what conditions might a histogram distort the perception of a dataset’s distribution? Provide an example where binning choices lead to misleading conclusions, and explain how alternative visualizations (e.g., KDE or violin plots) could address these distortions.\n",
    "It might distort it if we chose the wrong bin size. For example take 1,1,1,2,2,2,3,4,5,6,7,7,8,9,9,9,9,9,9. \\\n",
    "For 2 bins one [1,8] another [9,10] we will have, two bars first one significantly longer than the other. \\\n",
    "For 5-6 equal length bins we will have normalish* looking graph which is far more accurate to the data. \\\n",
    "Hence by choosing the wrong bins we can have completely different results."
   ]
  },
  {
   "cell_type": "markdown",
   "metadata": {},
   "source": [
    "### 9. How does a density plot differ from a histogram in terms of its mathematical foundation and interpretability? What challenges arise when choosing a kernel function and bandwidth for density estimation, particularly in sparse datasets?\n",
    "Density plot represents the data by counting frequencies of the data and dividing it by the bin length thus getting approximate distribution the data. KDE has the same idea behind it but uses different method to achieve it. It uses a kernel function and bandwidth in order to approximate the density. When data is sparse the bandwidth and the function are very important since they play a key role as to how the plot will come out. The bandwidth controls the smoothness of the curve while the kernel decides the algorithm of approximation."
   ]
  },
  {
   "cell_type": "markdown",
   "metadata": {},
   "source": [
    "### 10. Explain why the area under a density plot is always equal to 1. How does this property relate to probability theory, and what implications does it have for comparing distributions with different sample sizes?\n",
    "It is a density function of the data. Every density function is defined in a way that the area under their curve is 1. This is the case since the probability of every event summed is always 1. The sample size does not matter in this fact since the sum of the probabilities of every event is always 1. If the data came from the same distribution sample does not matter much after a certain amount. No matter the case the KDE-s will approximately be the same."
   ]
  },
  {
   "cell_type": "markdown",
   "metadata": {},
   "source": [
    "## Part 2: Hand-Drawn Graphs Create graphs by hand using the provided datasets."
   ]
  },
  {
   "cell_type": "markdown",
   "metadata": {},
   "source": [
    "### 1. Given the numbers: -5, -2, 0, 3, 4, 5, 5, 6, 7, 7, 8, 9, 9, 10, 12, 15, draw an ECDF plot.\n",
    "![alt_text](Pr2_1.jpg)"
   ]
  },
  {
   "cell_type": "markdown",
   "metadata": {},
   "source": [
    "### 2. Given the dataset: -5, 12, 14, 14, 15, 16, 17, 18, 19, 20, 21, 22, 23, 24, 24, 25, 29, 30, 35, create a boxplot. Indicate the median, quartiles, and any potential outliers.\n"
   ]
  },
  {
   "cell_type": "markdown",
   "metadata": {},
   "source": [
    "![alt_text](Pr2_2.jpg)"
   ]
  },
  {
   "cell_type": "markdown",
   "metadata": {},
   "source": [
    "### 3. Given the test scores: -10, 45, 50, 55, 55, 60, 62, 65, 68, 70, 73, 74, 80, 80, 82, 85, 88, 90, 91, 92, 94, 97, 100, 105, create a histogram using 5 bins and label the axes.\n",
    "![alt_text](Pr2_3.jpg)"
   ]
  },
  {
   "cell_type": "markdown",
   "metadata": {},
   "source": [
    "## Part 3: Use the datasets provided to create graphs"
   ]
  },
  {
   "cell_type": "code",
   "execution_count": 1,
   "metadata": {},
   "outputs": [
    {
     "data": {
      "text/html": [
       "<div>\n",
       "<style scoped>\n",
       "    .dataframe tbody tr th:only-of-type {\n",
       "        vertical-align: middle;\n",
       "    }\n",
       "\n",
       "    .dataframe tbody tr th {\n",
       "        vertical-align: top;\n",
       "    }\n",
       "\n",
       "    .dataframe thead th {\n",
       "        text-align: right;\n",
       "    }\n",
       "</style>\n",
       "<table border=\"1\" class=\"dataframe\">\n",
       "  <thead>\n",
       "    <tr style=\"text-align: right;\">\n",
       "      <th></th>\n",
       "      <th>ID</th>\n",
       "      <th>Country</th>\n",
       "      <th>Population_Size</th>\n",
       "      <th>Age</th>\n",
       "      <th>Gender</th>\n",
       "      <th>Smoker</th>\n",
       "      <th>Years_of_Smoking</th>\n",
       "      <th>Cigarettes_per_Day</th>\n",
       "      <th>Passive_Smoker</th>\n",
       "      <th>Family_History</th>\n",
       "      <th>...</th>\n",
       "      <th>Air_Pollution_Exposure</th>\n",
       "      <th>Occupational_Exposure</th>\n",
       "      <th>Indoor_Pollution</th>\n",
       "      <th>Healthcare_Access</th>\n",
       "      <th>Early_Detection</th>\n",
       "      <th>Treatment_Type</th>\n",
       "      <th>Developed_or_Developing</th>\n",
       "      <th>Annual_Lung_Cancer_Deaths</th>\n",
       "      <th>Lung_Cancer_Prevalence_Rate</th>\n",
       "      <th>Mortality_Rate</th>\n",
       "    </tr>\n",
       "  </thead>\n",
       "  <tbody>\n",
       "    <tr>\n",
       "      <th>0</th>\n",
       "      <td>0</td>\n",
       "      <td>China</td>\n",
       "      <td>1400</td>\n",
       "      <td>80</td>\n",
       "      <td>Male</td>\n",
       "      <td>Yes</td>\n",
       "      <td>30</td>\n",
       "      <td>29</td>\n",
       "      <td>No</td>\n",
       "      <td>No</td>\n",
       "      <td>...</td>\n",
       "      <td>Low</td>\n",
       "      <td>Yes</td>\n",
       "      <td>No</td>\n",
       "      <td>Poor</td>\n",
       "      <td>No</td>\n",
       "      <td>NaN</td>\n",
       "      <td>Developing</td>\n",
       "      <td>690000</td>\n",
       "      <td>2.44</td>\n",
       "      <td>0.0</td>\n",
       "    </tr>\n",
       "    <tr>\n",
       "      <th>1</th>\n",
       "      <td>1</td>\n",
       "      <td>Iran</td>\n",
       "      <td>84</td>\n",
       "      <td>53</td>\n",
       "      <td>Male</td>\n",
       "      <td>No</td>\n",
       "      <td>0</td>\n",
       "      <td>0</td>\n",
       "      <td>Yes</td>\n",
       "      <td>No</td>\n",
       "      <td>...</td>\n",
       "      <td>Low</td>\n",
       "      <td>Yes</td>\n",
       "      <td>No</td>\n",
       "      <td>Poor</td>\n",
       "      <td>No</td>\n",
       "      <td>NaN</td>\n",
       "      <td>Developing</td>\n",
       "      <td>27000</td>\n",
       "      <td>2.10</td>\n",
       "      <td>0.0</td>\n",
       "    </tr>\n",
       "    <tr>\n",
       "      <th>2</th>\n",
       "      <td>2</td>\n",
       "      <td>Mexico</td>\n",
       "      <td>128</td>\n",
       "      <td>47</td>\n",
       "      <td>Male</td>\n",
       "      <td>Yes</td>\n",
       "      <td>12</td>\n",
       "      <td>6</td>\n",
       "      <td>Yes</td>\n",
       "      <td>No</td>\n",
       "      <td>...</td>\n",
       "      <td>Medium</td>\n",
       "      <td>No</td>\n",
       "      <td>No</td>\n",
       "      <td>Poor</td>\n",
       "      <td>Yes</td>\n",
       "      <td>NaN</td>\n",
       "      <td>Developing</td>\n",
       "      <td>28000</td>\n",
       "      <td>1.11</td>\n",
       "      <td>0.0</td>\n",
       "    </tr>\n",
       "    <tr>\n",
       "      <th>3</th>\n",
       "      <td>3</td>\n",
       "      <td>Indonesia</td>\n",
       "      <td>273</td>\n",
       "      <td>39</td>\n",
       "      <td>Female</td>\n",
       "      <td>No</td>\n",
       "      <td>0</td>\n",
       "      <td>0</td>\n",
       "      <td>No</td>\n",
       "      <td>Yes</td>\n",
       "      <td>...</td>\n",
       "      <td>Low</td>\n",
       "      <td>No</td>\n",
       "      <td>No</td>\n",
       "      <td>Poor</td>\n",
       "      <td>No</td>\n",
       "      <td>NaN</td>\n",
       "      <td>Developing</td>\n",
       "      <td>40000</td>\n",
       "      <td>0.75</td>\n",
       "      <td>0.0</td>\n",
       "    </tr>\n",
       "    <tr>\n",
       "      <th>4</th>\n",
       "      <td>4</td>\n",
       "      <td>South Africa</td>\n",
       "      <td>59</td>\n",
       "      <td>44</td>\n",
       "      <td>Female</td>\n",
       "      <td>No</td>\n",
       "      <td>0</td>\n",
       "      <td>0</td>\n",
       "      <td>Yes</td>\n",
       "      <td>No</td>\n",
       "      <td>...</td>\n",
       "      <td>Medium</td>\n",
       "      <td>Yes</td>\n",
       "      <td>No</td>\n",
       "      <td>Poor</td>\n",
       "      <td>No</td>\n",
       "      <td>NaN</td>\n",
       "      <td>Developing</td>\n",
       "      <td>15000</td>\n",
       "      <td>2.44</td>\n",
       "      <td>0.0</td>\n",
       "    </tr>\n",
       "  </tbody>\n",
       "</table>\n",
       "<p>5 rows × 24 columns</p>\n",
       "</div>"
      ],
      "text/plain": [
       "   ID       Country  Population_Size  Age  Gender Smoker  Years_of_Smoking  \\\n",
       "0   0         China             1400   80    Male    Yes                30   \n",
       "1   1          Iran               84   53    Male     No                 0   \n",
       "2   2        Mexico              128   47    Male    Yes                12   \n",
       "3   3     Indonesia              273   39  Female     No                 0   \n",
       "4   4  South Africa               59   44  Female     No                 0   \n",
       "\n",
       "   Cigarettes_per_Day Passive_Smoker Family_History  ...  \\\n",
       "0                  29             No             No  ...   \n",
       "1                   0            Yes             No  ...   \n",
       "2                   6            Yes             No  ...   \n",
       "3                   0             No            Yes  ...   \n",
       "4                   0            Yes             No  ...   \n",
       "\n",
       "  Air_Pollution_Exposure Occupational_Exposure  Indoor_Pollution  \\\n",
       "0                    Low                   Yes                No   \n",
       "1                    Low                   Yes                No   \n",
       "2                 Medium                    No                No   \n",
       "3                    Low                    No                No   \n",
       "4                 Medium                   Yes                No   \n",
       "\n",
       "  Healthcare_Access Early_Detection Treatment_Type Developed_or_Developing  \\\n",
       "0              Poor              No            NaN              Developing   \n",
       "1              Poor              No            NaN              Developing   \n",
       "2              Poor             Yes            NaN              Developing   \n",
       "3              Poor              No            NaN              Developing   \n",
       "4              Poor              No            NaN              Developing   \n",
       "\n",
       "  Annual_Lung_Cancer_Deaths Lung_Cancer_Prevalence_Rate Mortality_Rate  \n",
       "0                    690000                        2.44            0.0  \n",
       "1                     27000                        2.10            0.0  \n",
       "2                     28000                        1.11            0.0  \n",
       "3                     40000                        0.75            0.0  \n",
       "4                     15000                        2.44            0.0  \n",
       "\n",
       "[5 rows x 24 columns]"
      ]
     },
     "execution_count": 1,
     "metadata": {},
     "output_type": "execute_result"
    }
   ],
   "source": [
    "import pandas as pd\n",
    "import matplotlib.pyplot as plt\n",
    "import seaborn as sns\n",
    "\n",
    "df_lung = pd.read_csv(\"lung_cancer_prediction_dataset.csv\")\n",
    "df_lung.head()"
   ]
  },
  {
   "cell_type": "code",
   "execution_count": 2,
   "metadata": {},
   "outputs": [
    {
     "data": {
      "text/html": [
       "<div>\n",
       "<style scoped>\n",
       "    .dataframe tbody tr th:only-of-type {\n",
       "        vertical-align: middle;\n",
       "    }\n",
       "\n",
       "    .dataframe tbody tr th {\n",
       "        vertical-align: top;\n",
       "    }\n",
       "\n",
       "    .dataframe thead th {\n",
       "        text-align: right;\n",
       "    }\n",
       "</style>\n",
       "<table border=\"1\" class=\"dataframe\">\n",
       "  <thead>\n",
       "    <tr style=\"text-align: right;\">\n",
       "      <th></th>\n",
       "      <th>Country</th>\n",
       "      <th>City</th>\n",
       "      <th>AQI_Value</th>\n",
       "      <th>AQI_Category</th>\n",
       "      <th>CO_AQI_Value</th>\n",
       "      <th>CO_AQI_Category</th>\n",
       "      <th>Ozone_AQI_Value</th>\n",
       "      <th>Ozone_AQI_Category</th>\n",
       "      <th>NO2_AQI_Value</th>\n",
       "      <th>NO2_AQI_Category</th>\n",
       "      <th>PM2.5_AQI_Value</th>\n",
       "      <th>PM2.5_AQI_Category</th>\n",
       "    </tr>\n",
       "  </thead>\n",
       "  <tbody>\n",
       "    <tr>\n",
       "      <th>0</th>\n",
       "      <td>Russian Federation</td>\n",
       "      <td>Praskoveya</td>\n",
       "      <td>51</td>\n",
       "      <td>Moderate</td>\n",
       "      <td>1</td>\n",
       "      <td>Good</td>\n",
       "      <td>36</td>\n",
       "      <td>Good</td>\n",
       "      <td>0</td>\n",
       "      <td>Good</td>\n",
       "      <td>51</td>\n",
       "      <td>Moderate</td>\n",
       "    </tr>\n",
       "    <tr>\n",
       "      <th>1</th>\n",
       "      <td>Brazil</td>\n",
       "      <td>Presidente Dutra</td>\n",
       "      <td>41</td>\n",
       "      <td>Good</td>\n",
       "      <td>1</td>\n",
       "      <td>Good</td>\n",
       "      <td>5</td>\n",
       "      <td>Good</td>\n",
       "      <td>1</td>\n",
       "      <td>Good</td>\n",
       "      <td>41</td>\n",
       "      <td>Good</td>\n",
       "    </tr>\n",
       "    <tr>\n",
       "      <th>2</th>\n",
       "      <td>Italy</td>\n",
       "      <td>Priolo Gargallo</td>\n",
       "      <td>66</td>\n",
       "      <td>Moderate</td>\n",
       "      <td>1</td>\n",
       "      <td>Good</td>\n",
       "      <td>39</td>\n",
       "      <td>Good</td>\n",
       "      <td>2</td>\n",
       "      <td>Good</td>\n",
       "      <td>66</td>\n",
       "      <td>Moderate</td>\n",
       "    </tr>\n",
       "    <tr>\n",
       "      <th>3</th>\n",
       "      <td>Poland</td>\n",
       "      <td>Przasnysz</td>\n",
       "      <td>34</td>\n",
       "      <td>Good</td>\n",
       "      <td>1</td>\n",
       "      <td>Good</td>\n",
       "      <td>34</td>\n",
       "      <td>Good</td>\n",
       "      <td>0</td>\n",
       "      <td>Good</td>\n",
       "      <td>20</td>\n",
       "      <td>Good</td>\n",
       "    </tr>\n",
       "    <tr>\n",
       "      <th>4</th>\n",
       "      <td>France</td>\n",
       "      <td>Punaauia</td>\n",
       "      <td>22</td>\n",
       "      <td>Good</td>\n",
       "      <td>0</td>\n",
       "      <td>Good</td>\n",
       "      <td>22</td>\n",
       "      <td>Good</td>\n",
       "      <td>0</td>\n",
       "      <td>Good</td>\n",
       "      <td>6</td>\n",
       "      <td>Good</td>\n",
       "    </tr>\n",
       "  </tbody>\n",
       "</table>\n",
       "</div>"
      ],
      "text/plain": [
       "              Country              City  AQI_Value AQI_Category  CO_AQI_Value  \\\n",
       "0  Russian Federation        Praskoveya         51     Moderate             1   \n",
       "1              Brazil  Presidente Dutra         41         Good             1   \n",
       "2               Italy   Priolo Gargallo         66     Moderate             1   \n",
       "3              Poland         Przasnysz         34         Good             1   \n",
       "4              France          Punaauia         22         Good             0   \n",
       "\n",
       "  CO_AQI_Category  Ozone_AQI_Value Ozone_AQI_Category  NO2_AQI_Value  \\\n",
       "0            Good               36               Good              0   \n",
       "1            Good                5               Good              1   \n",
       "2            Good               39               Good              2   \n",
       "3            Good               34               Good              0   \n",
       "4            Good               22               Good              0   \n",
       "\n",
       "  NO2_AQI_Category  PM2.5_AQI_Value PM2.5_AQI_Category  \n",
       "0             Good               51           Moderate  \n",
       "1             Good               41               Good  \n",
       "2             Good               66           Moderate  \n",
       "3             Good               20               Good  \n",
       "4             Good                6               Good  "
      ]
     },
     "execution_count": 2,
     "metadata": {},
     "output_type": "execute_result"
    }
   ],
   "source": [
    "df_air = pd.read_csv(\"global_air_pollution_dataset.csv\")\n",
    "df_air.head()"
   ]
  },
  {
   "cell_type": "markdown",
   "metadata": {},
   "source": [
    "### 1. Create a Boxplot of Lung Cancer Deaths Distribution."
   ]
  },
  {
   "cell_type": "code",
   "execution_count": 3,
   "metadata": {},
   "outputs": [
    {
     "data": {
      "image/png": "[encoded data removed]",
      "text/plain": [
       "<Figure size 640x480 with 1 Axes>"
      ]
     },
     "metadata": {},
     "output_type": "display_data"
    }
   ],
   "source": [
    "\n",
    "df_lung.boxplot(\"Annual_Lung_Cancer_Deaths\", vert=False)\n",
    "plt.show();"
   ]
  },
  {
   "cell_type": "markdown",
   "metadata": {},
   "source": [
    "### 2. Create a Histogram of PM2.5 AQI Values. "
   ]
  },
  {
   "cell_type": "code",
   "execution_count": 4,
   "metadata": {},
   "outputs": [
    {
     "data": {
      "image/png": "[encoded data removed]",
      "text/plain": [
       "<Figure size 640x480 with 1 Axes>"
      ]
     },
     "metadata": {},
     "output_type": "display_data"
    }
   ],
   "source": [
    "plt.hist(x = df_air[\"PM2.5_AQI_Value\"], bins=25)\n",
    "plt.show();"
   ]
  },
  {
   "cell_type": "markdown",
   "metadata": {},
   "source": [
    "### 3. Create a Density Plot of the Lung Cancer Mortality Rate. "
   ]
  },
  {
   "cell_type": "code",
   "execution_count": 5,
   "metadata": {},
   "outputs": [
    {
     "data": {
      "image/png": "[encoded data removed]",
      "text/plain": [
       "<Figure size 640x480 with 1 Axes>"
      ]
     },
     "metadata": {},
     "output_type": "display_data"
    }
   ],
   "source": [
    "sns.kdeplot(data=df_lung, x = \"Mortality_Rate\")\n",
    "plt.show();"
   ]
  },
  {
   "cell_type": "markdown",
   "metadata": {},
   "source": [
    "## Part 4: Recreate the following graphs"
   ]
  },
  {
   "cell_type": "markdown",
   "metadata": {},
   "source": [
    "### 1. Use the matplotlib library for this graph. "
   ]
  },
  {
   "cell_type": "code",
   "execution_count": 6,
   "metadata": {},
   "outputs": [
    {
     "data": {
      "image/png": "[encoded data removed]",
      "text/plain": [
       "<Figure size 640x480 with 1 Axes>"
      ]
     },
     "metadata": {},
     "output_type": "display_data"
    }
   ],
   "source": [
    "plt.rc(\"axes\", axisbelow=True) #Moves gridines to background\n",
    "plt.figure(facecolor=\"#f4f4f4\") #Background outer color\n",
    "plt.gca().set_facecolor(\"#eaeaf2\") #Background color of the grid\n",
    "plt.grid(axis = \"y\", linestyle=\"--\", alpha=0.5, color=\"white\") #Adds the dashed y gridlines\n",
    "plt.hist(data=df_air, x = \"PM2.5_AQI_Value\", bins=30, edgecolor=\"black\", color=\"blue\", alpha=0.5, label=\"Histogram\", density=True) \n",
    "sns.kdeplot(data=df_air, x=\"PM2.5_AQI_Value\", color=\"darkred\", fill=True, linewidth = 3, label=\"Density Plot (KDE)\")\n",
    "plt.xlabel(\"PM2.5 AQI Value\", weight = \"bold\")\n",
    "plt.ylabel(\"Density\", weight=\"bold\")\n",
    "plt.title(\"PM2.5 AQI Distribution with Density Overlay\", weight='bold')\n",
    "plt.legend([\"Histogram\", \"Density Plot (KDE)\"])\n",
    "plt.text(90, -0.003, \"This plot represents the distribution of PM2.5 AQI values with a density overlay.\", \n",
    "            wrap=False, verticalalignment=\"bottom\", horizontalalignment=\"center\", fontsize=6) #Caption at the bottom\n",
    "plt.show();\n"
   ]
  }
 ],
 "metadata": {
  "kernelspec": {
   "display_name": "base",
   "language": "python",
   "name": "python3"
  },
  "language_info": {
   "codemirror_mode": {
    "name": "ipython",
    "version": 3
   },
   "file_extension": ".py",
   "mimetype": "text/x-python",
   "name": "python",
   "nbconvert_exporter": "python",
   "pygments_lexer": "ipython3",
   "version": "3.12.3"
  }
 },
 "nbformat": 4,
 "nbformat_minor": 2
}
